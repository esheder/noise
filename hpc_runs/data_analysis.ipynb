{
 "cells": [
  {
   "cell_type": "markdown",
   "id": "e435e834",
   "metadata": {},
   "source": [
    "# Setup"
   ]
  },
  {
   "cell_type": "code",
   "execution_count": 1,
   "id": "13aee80e-5c5a-48d4-9633-1f38cbde4fd7",
   "metadata": {},
   "outputs": [],
   "source": [
    "import pandas as pd\n",
    "import numpy as np\n",
    "from sde_signals import par\n",
    "from scipy.stats import norm, shapiro\n",
    "import matplotlib.pyplot as plt"
   ]
  },
  {
   "cell_type": "markdown",
   "id": "8739d3a5",
   "metadata": {},
   "source": [
    "# SDE Correctness"
   ]
  },
  {
   "cell_type": "code",
   "execution_count": 2,
   "id": "d0ddda41-2d4c-4252-b774-8b21cdc0bf57",
   "metadata": {},
   "outputs": [
    {
     "data": {
      "text/html": [
       "<div>\n",
       "<style scoped>\n",
       "    .dataframe tbody tr th:only-of-type {\n",
       "        vertical-align: middle;\n",
       "    }\n",
       "\n",
       "    .dataframe tbody tr th {\n",
       "        vertical-align: top;\n",
       "    }\n",
       "\n",
       "    .dataframe thead th {\n",
       "        text-align: right;\n",
       "    }\n",
       "</style>\n",
       "<table border=\"1\" class=\"dataframe\">\n",
       "  <thead>\n",
       "    <tr style=\"text-align: right;\">\n",
       "      <th></th>\n",
       "      <th>Theta</th>\n",
       "      <th>Inf</th>\n",
       "      <th>Alpha</th>\n",
       "    </tr>\n",
       "    <tr>\n",
       "      <th>Seed</th>\n",
       "      <th></th>\n",
       "      <th></th>\n",
       "      <th></th>\n",
       "    </tr>\n",
       "  </thead>\n",
       "  <tbody>\n",
       "    <tr>\n",
       "      <th>2001</th>\n",
       "      <td>0.0</td>\n",
       "      <td>10.4822</td>\n",
       "      <td>99.6003</td>\n",
       "    </tr>\n",
       "    <tr>\n",
       "      <th>2001</th>\n",
       "      <td>0.5</td>\n",
       "      <td>10.4827</td>\n",
       "      <td>99.0996</td>\n",
       "    </tr>\n",
       "    <tr>\n",
       "      <th>2001</th>\n",
       "      <td>1.0</td>\n",
       "      <td>10.4831</td>\n",
       "      <td>98.6039</td>\n",
       "    </tr>\n",
       "    <tr>\n",
       "      <th>2002</th>\n",
       "      <td>0.0</td>\n",
       "      <td>10.5837</td>\n",
       "      <td>99.2751</td>\n",
       "    </tr>\n",
       "    <tr>\n",
       "      <th>2002</th>\n",
       "      <td>0.5</td>\n",
       "      <td>10.5842</td>\n",
       "      <td>98.7750</td>\n",
       "    </tr>\n",
       "    <tr>\n",
       "      <th>...</th>\n",
       "      <td>...</td>\n",
       "      <td>...</td>\n",
       "      <td>...</td>\n",
       "    </tr>\n",
       "    <tr>\n",
       "      <th>7999</th>\n",
       "      <td>0.5</td>\n",
       "      <td>10.3855</td>\n",
       "      <td>100.2340</td>\n",
       "    </tr>\n",
       "    <tr>\n",
       "      <th>7999</th>\n",
       "      <td>1.0</td>\n",
       "      <td>10.3854</td>\n",
       "      <td>99.7314</td>\n",
       "    </tr>\n",
       "    <tr>\n",
       "      <th>8000</th>\n",
       "      <td>0.0</td>\n",
       "      <td>10.2859</td>\n",
       "      <td>100.6530</td>\n",
       "    </tr>\n",
       "    <tr>\n",
       "      <th>8000</th>\n",
       "      <td>0.5</td>\n",
       "      <td>10.2856</td>\n",
       "      <td>100.1520</td>\n",
       "    </tr>\n",
       "    <tr>\n",
       "      <th>8000</th>\n",
       "      <td>1.0</td>\n",
       "      <td>10.2853</td>\n",
       "      <td>99.6551</td>\n",
       "    </tr>\n",
       "  </tbody>\n",
       "</table>\n",
       "<p>6000 rows × 3 columns</p>\n",
       "</div>"
      ],
      "text/plain": [
       "      Theta      Inf     Alpha\n",
       "Seed                          \n",
       "2001    0.0  10.4822   99.6003\n",
       "2001    0.5  10.4827   99.0996\n",
       "2001    1.0  10.4831   98.6039\n",
       "2002    0.0  10.5837   99.2751\n",
       "2002    0.5  10.5842   98.7750\n",
       "...     ...      ...       ...\n",
       "7999    0.5  10.3855  100.2340\n",
       "7999    1.0  10.3854   99.7314\n",
       "8000    0.0  10.2859  100.6530\n",
       "8000    0.5  10.2856  100.1520\n",
       "8000    1.0  10.2853   99.6551\n",
       "\n",
       "[6000 rows x 3 columns]"
      ]
     },
     "execution_count": 2,
     "metadata": {},
     "output_type": "execute_result"
    }
   ],
   "source": [
    "sdedf = pd.read_csv('sde_data/theta_data.csv').set_index(['Seed'])\n",
    "sdedf"
   ]
  },
  {
   "cell_type": "code",
   "execution_count": 3,
   "id": "06dc57c7-04ec-4ba5-a6e4-94ec6446bf1a",
   "metadata": {},
   "outputs": [
    {
     "data": {
      "text/plain": [
       "-100.0"
      ]
     },
     "execution_count": 3,
     "metadata": {},
     "output_type": "execute_result"
    }
   ],
   "source": [
    "par.α"
   ]
  },
  {
   "cell_type": "code",
   "execution_count": 75,
   "id": "919911e3",
   "metadata": {},
   "outputs": [
    {
     "data": {
      "text/plain": [
       "(100.62479979999999, 1.5339972922466194)"
      ]
     },
     "execution_count": 75,
     "metadata": {},
     "output_type": "execute_result"
    }
   ],
   "source": [
    "mean, std = norm.fit(sdedf[sdedf.Theta==0.]['Alpha'])\n",
    "mean, std"
   ]
  },
  {
   "cell_type": "code",
   "execution_count": 76,
   "id": "fe165c01",
   "metadata": {},
   "outputs": [],
   "source": [
    "assert np.isclose(mean, -par.α, atol=std, rtol=1e-20)"
   ]
  },
  {
   "cell_type": "code",
   "execution_count": 77,
   "id": "081e2f90",
   "metadata": {},
   "outputs": [
    {
     "data": {
      "image/png": "[encoded data removed]",
      "text/plain": [
       "<Figure size 432x288 with 1 Axes>"
      ]
     },
     "metadata": {
      "needs_background": "light"
     },
     "output_type": "display_data"
    }
   ],
   "source": [
    "forward = sdedf[sdedf.Theta==0.]\n",
    "forward['Alpha'].hist(bins=20, density=True, label='SDE Histogram')\n",
    "plt.gca().set_xlabel('α')\n",
    "plt.gca().set_ylabel('hist(α)')\n",
    "\n",
    "sdemean, sdestd = norm.fit(forward['Alpha'])\n",
    "x = np.linspace(96, 106, num=100)\n",
    "y = norm.pdf(x, loc=sdemean, scale=sdestd)\n",
    "mx = max(y)\n",
    "plt.plot(x, y, 'r', label='Gaussian Fit')\n",
    "plt.plot([100, 100], [0, mx], '--k', label='Expected Value')\n",
    "plt.plot([sdemean-sdestd, sdemean-sdestd], [0, mx], '--r', label='Gaussian 1 STD range')\n",
    "plt.plot([sdemean+sdestd, sdemean+sdestd], [0, mx], '--r')\n",
    "plt.legend()\n",
    "plt.savefig('SDE_Histogram.jpg', dpi=600)\n",
    "plt.savefig('SDE_Histogram.svg', dpi=600)"
   ]
  },
  {
   "cell_type": "code",
   "execution_count": 78,
   "id": "54ee8aea-02e7-452b-b60f-b3170150ac70",
   "metadata": {},
   "outputs": [
    {
     "data": {
      "text/plain": [
       "(0.0, 0.03430980075027749, 100.62479979999999)"
      ]
     },
     "execution_count": 78,
     "metadata": {},
     "output_type": "execute_result"
    }
   ],
   "source": [
    "sdemean, sdestd = norm.fit(forward.Alpha)\n",
    "testval = norm(100, sdestd/np.sqrt(len(forward.Alpha.values)-1))\n",
    "2*(1. - testval.cdf(sdemean)), forward.Alpha.std()/np.sqrt(len(forward.Alpha.values)), forward.Alpha.mean()"
   ]
  },
  {
   "cell_type": "markdown",
   "id": "a76a4bd0",
   "metadata": {},
   "source": [
    "Soemthing is a little off. We would expect α to be replicated around its expected value, and this feels wrong.\n",
    "We should use a statistical test to verify if this shift could be explained, but I highly doubt that. I feel like there is a very small and stupid bug in my code."
   ]
  },
  {
   "cell_type": "code",
   "execution_count": 70,
   "id": "23bd0237-3798-4f18-bdea-e297d5deb0ae",
   "metadata": {},
   "outputs": [
    {
     "data": {
      "image/png": "[encoded data removed]",
      "text/plain": [
       "<Figure size 432x288 with 1 Axes>"
      ]
     },
     "metadata": {
      "needs_background": "light"
     },
     "output_type": "display_data"
    }
   ],
   "source": [
    "backward = sdedf[sdedf.Theta==1.]\n",
    "backward['Alpha'].hist(bins=20, density=True, label='SDE Histogram')\n",
    "plt.gca().set_xlabel('α')\n",
    "plt.gca().set_ylabel('hist(α)')\n",
    "\n",
    "sdemean, sdestd = norm.fit(backward['Alpha'])\n",
    "x = np.linspace(96, 106, num=100)\n",
    "y = norm.pdf(x, loc=sdemean, scale=sdestd)\n",
    "mx = max(y)\n",
    "plt.plot(x, y, 'r', label='Gaussian Fit')\n",
    "plt.plot([100, 100], [0, mx], '--k', label='Expected Value')\n",
    "plt.plot([sdemean-sdestd, sdemean-sdestd], [0, mx], '--r', label='Gaussian 1 STD range')\n",
    "plt.plot([sdemean+sdestd, sdemean+sdestd], [0, mx], '--r')\n",
    "plt.legend()\n",
    "plt.savefig('SDE_Histogram_backward.jpg', dpi=600)\n",
    "plt.savefig('SDE_Histogram_backward.svg', dpi=600)"
   ]
  },
  {
   "cell_type": "code",
   "execution_count": 71,
   "id": "7debeaca-a6b6-45a2-aa19-9d999579aedf",
   "metadata": {},
   "outputs": [
    {
     "data": {
      "text/plain": [
       "(1.859321164840012e-28, 0.03406936000236068, 99.62303025)"
      ]
     },
     "execution_count": 71,
     "metadata": {},
     "output_type": "execute_result"
    }
   ],
   "source": [
    "sdemean, sdestd = norm.fit(backward.Alpha)\n",
    "testval = norm(100, sdestd/np.sqrt(len(backward.Alpha.values)-1))\n",
    "2*testval.cdf(sdemean), backward.Alpha.std()/np.sqrt(len(backward.Alpha.values)), backward.Alpha.mean()"
   ]
  },
  {
   "cell_type": "markdown",
   "id": "517a0b0e-96ff-4fcf-8697-2c279ad39799",
   "metadata": {},
   "source": [
    "This is still a little bit off, but less so. Therefore the numerical method does matter and it does change the result. That's important to note."
   ]
  },
  {
   "cell_type": "code",
   "execution_count": 72,
   "id": "1df3ab00-81c9-49d0-9a0b-2b9634009124",
   "metadata": {},
   "outputs": [
    {
     "data": {
      "image/png": "[encoded data removed]",
      "text/plain": [
       "<Figure size 432x288 with 1 Axes>"
      ]
     },
     "metadata": {
      "needs_background": "light"
     },
     "output_type": "display_data"
    }
   ],
   "source": [
    "crank = sdedf[sdedf.Theta==0.5]\n",
    "crank['Alpha'].hist(bins=20, density=True, label='SDE Histogram')\n",
    "plt.gca().set_xlabel('α')\n",
    "plt.gca().set_ylabel('hist(α)')\n",
    "\n",
    "sdemean, sdestd = norm.fit(crank['Alpha'])\n",
    "x = np.linspace(96, 106, num=100)\n",
    "y = norm.pdf(x, loc=sdemean, scale=sdestd)\n",
    "mx = max(y)\n",
    "plt.plot(x, y, 'r', label='Gaussian Fit')\n",
    "plt.plot([100, 100], [0, mx], '--k', label='Expected Value')\n",
    "plt.plot([sdemean-sdestd, sdemean-sdestd], [0, mx], '--r', label='Gaussian 1 STD range')\n",
    "plt.plot([sdemean+sdestd, sdemean+sdestd], [0, mx], '--r')\n",
    "plt.legend()\n",
    "plt.savefig('SDE_Histogram_crank.jpg', dpi=600)\n",
    "plt.savefig('SDE_Histogram_crank.svg', dpi=600)"
   ]
  },
  {
   "cell_type": "markdown",
   "id": "a8af45ce-3357-4e02-8f77-ee544feaeeb5",
   "metadata": {},
   "source": [
    "The Crank-Nickolson seems right on the money. OK. I think we got this."
   ]
  },
  {
   "cell_type": "code",
   "execution_count": 73,
   "id": "826cd3ac-0de8-4b3a-833c-d0e136eebb5b",
   "metadata": {},
   "outputs": [
    {
     "data": {
      "text/plain": [
       "ShapiroResult(statistic=0.9993764758110046, pvalue=0.7786957621574402)"
      ]
     },
     "execution_count": 73,
     "metadata": {},
     "output_type": "execute_result"
    }
   ],
   "source": [
    "shapiro(crank.Alpha)"
   ]
  },
  {
   "cell_type": "markdown",
   "id": "14a2034f-91e8-4680-a2d4-8206679294ae",
   "metadata": {},
   "source": [
    "As expected this is kind of a normal distribution."
   ]
  },
  {
   "cell_type": "code",
   "execution_count": 74,
   "id": "34a2f8a8-f916-4e02-90f8-d27a51049235",
   "metadata": {},
   "outputs": [
    {
     "data": {
      "text/plain": [
       "(0.0003834239500566383, 0.034188953249717234, 100.12141310000001)"
      ]
     },
     "execution_count": 74,
     "metadata": {},
     "output_type": "execute_result"
    }
   ],
   "source": [
    "sdemean, sdestd = norm.fit(crank['Alpha'])\n",
    "testval = norm(100, sdestd/np.sqrt(len(crank.Alpha.values)-1))\n",
    "2*(1. - testval.cdf(sdemean)), crank.Alpha.std()/np.sqrt(len(crank.Alpha.values)), crank.Alpha.mean()"
   ]
  },
  {
   "cell_type": "markdown",
   "id": "ab7fdb3d-8712-4824-972b-f8f9e61004cb",
   "metadata": {},
   "source": [
    "# Analog"
   ]
  },
  {
   "cell_type": "code",
   "execution_count": 11,
   "id": "c7eee51f",
   "metadata": {},
   "outputs": [
    {
     "data": {
      "text/html": [
       "<div>\n",
       "<style scoped>\n",
       "    .dataframe tbody tr th:only-of-type {\n",
       "        vertical-align: middle;\n",
       "    }\n",
       "\n",
       "    .dataframe tbody tr th {\n",
       "        vertical-align: top;\n",
       "    }\n",
       "\n",
       "    .dataframe thead th {\n",
       "        text-align: right;\n",
       "    }\n",
       "</style>\n",
       "<table border=\"1\" class=\"dataframe\">\n",
       "  <thead>\n",
       "    <tr style=\"text-align: right;\">\n",
       "      <th></th>\n",
       "      <th>Inf</th>\n",
       "      <th>Alpha</th>\n",
       "    </tr>\n",
       "    <tr>\n",
       "      <th>Seed</th>\n",
       "      <th></th>\n",
       "      <th></th>\n",
       "    </tr>\n",
       "  </thead>\n",
       "  <tbody>\n",
       "    <tr>\n",
       "      <th>1</th>\n",
       "      <td>10.3139</td>\n",
       "      <td>100.6600</td>\n",
       "    </tr>\n",
       "    <tr>\n",
       "      <th>10</th>\n",
       "      <td>10.6894</td>\n",
       "      <td>98.1019</td>\n",
       "    </tr>\n",
       "    <tr>\n",
       "      <th>100</th>\n",
       "      <td>10.5791</td>\n",
       "      <td>100.3220</td>\n",
       "    </tr>\n",
       "    <tr>\n",
       "      <th>1000</th>\n",
       "      <td>10.4034</td>\n",
       "      <td>100.2430</td>\n",
       "    </tr>\n",
       "    <tr>\n",
       "      <th>101</th>\n",
       "      <td>10.4815</td>\n",
       "      <td>100.0810</td>\n",
       "    </tr>\n",
       "    <tr>\n",
       "      <th>...</th>\n",
       "      <td>...</td>\n",
       "      <td>...</td>\n",
       "    </tr>\n",
       "    <tr>\n",
       "      <th>995</th>\n",
       "      <td>10.4780</td>\n",
       "      <td>98.0817</td>\n",
       "    </tr>\n",
       "    <tr>\n",
       "      <th>996</th>\n",
       "      <td>10.4712</td>\n",
       "      <td>99.5976</td>\n",
       "    </tr>\n",
       "    <tr>\n",
       "      <th>997</th>\n",
       "      <td>10.5194</td>\n",
       "      <td>100.5660</td>\n",
       "    </tr>\n",
       "    <tr>\n",
       "      <th>998</th>\n",
       "      <td>10.7538</td>\n",
       "      <td>97.4871</td>\n",
       "    </tr>\n",
       "    <tr>\n",
       "      <th>999</th>\n",
       "      <td>10.4081</td>\n",
       "      <td>101.2550</td>\n",
       "    </tr>\n",
       "  </tbody>\n",
       "</table>\n",
       "<p>1000 rows × 2 columns</p>\n",
       "</div>"
      ],
      "text/plain": [
       "          Inf     Alpha\n",
       "Seed                   \n",
       "1     10.3139  100.6600\n",
       "10    10.6894   98.1019\n",
       "100   10.5791  100.3220\n",
       "1000  10.4034  100.2430\n",
       "101   10.4815  100.0810\n",
       "...       ...       ...\n",
       "995   10.4780   98.0817\n",
       "996   10.4712   99.5976\n",
       "997   10.5194  100.5660\n",
       "998   10.7538   97.4871\n",
       "999   10.4081  101.2550\n",
       "\n",
       "[1000 rows x 2 columns]"
      ]
     },
     "execution_count": 11,
     "metadata": {},
     "output_type": "execute_result"
    }
   ],
   "source": [
    "analogdf = pd.read_csv('analog_data.csv').set_index('Seed')\n",
    "analogdf"
   ]
  },
  {
   "cell_type": "code",
   "execution_count": 12,
   "id": "f0de21a3",
   "metadata": {
    "scrolled": true
   },
   "outputs": [
    {
     "data": {
      "image/png": "[encoded data removed]",
      "text/plain": [
       "<Figure size 432x288 with 1 Axes>"
      ]
     },
     "metadata": {
      "needs_background": "light"
     },
     "output_type": "display_data"
    }
   ],
   "source": [
    "analogdf['Alpha'].hist(bins=20, density=True, label='Analog Histogram')\n",
    "plt.gca().set_xlabel('α')\n",
    "plt.gca().set_ylabel('hist(α)')\n",
    "\n",
    "analogmean, analogstd = norm.fit(analogdf['Alpha'])\n",
    "x = np.linspace(96, 106, num=100)\n",
    "y = norm.pdf(x, loc=analogmean, scale=analogstd)\n",
    "mx = max(y)\n",
    "plt.plot(x, y, 'r', label='Gaussian Fit')\n",
    "plt.plot([100, 100], [0, mx], '--k', label='Expected Value')\n",
    "plt.plot([analogmean-analogstd, analogmean-analogstd], [0, mx], '--r', label='Gaussian 1 STD range')\n",
    "plt.plot([analogmean+analogstd, analogmean+analogstd], [0, mx], '--r')\n",
    "plt.legend()\n",
    "plt.savefig('Analog_Histogram.jpg', dpi=600)\n",
    "plt.savefig('Analog_Histogram.svg', dpi=600)"
   ]
  },
  {
   "cell_type": "markdown",
   "id": "f84c3a26",
   "metadata": {},
   "source": [
    "Now this is how we expected the model to behave!"
   ]
  },
  {
   "cell_type": "code",
   "execution_count": 13,
   "id": "6bcf5307",
   "metadata": {},
   "outputs": [
    {
     "data": {
      "text/plain": [
       "(99.92867,\n",
       " 1.504638732354049,\n",
       " ShapiroResult(statistic=0.9988510608673096, pvalue=0.7874799966812134))"
      ]
     },
     "execution_count": 13,
     "metadata": {},
     "output_type": "execute_result"
    }
   ],
   "source": [
    "mean, std = norm.fit(analogdf['Alpha'])\n",
    "mean, std, shapiro(analogdf.Alpha)"
   ]
  },
  {
   "cell_type": "code",
   "execution_count": 46,
   "id": "3e6d1761-6c3c-4dc3-af4b-ed5a57182c58",
   "metadata": {},
   "outputs": [
    {
     "data": {
      "text/plain": [
       "(0.06701693287687802, 0.047604662784424996, -0.07133000000000322)"
      ]
     },
     "execution_count": 46,
     "metadata": {},
     "output_type": "execute_result"
    }
   ],
   "source": [
    "testval = norm(100., analogdf.Alpha.std()/np.sqrt(len(analogdf.Alpha.values)))\n",
    "testval.cdf(analogdf.Alpha.mean()), analogdf.Alpha.std()/np.sqrt(len(analogdf.Alpha.values)), analogdf.Alpha.mean() - 100"
   ]
  },
  {
   "cell_type": "code",
   "execution_count": 10,
   "id": "d4419c7c",
   "metadata": {},
   "outputs": [],
   "source": [
    "assert np.isclose(mean, -par.α, atol=std, rtol=1e-20)"
   ]
  },
  {
   "cell_type": "markdown",
   "id": "abe55ca9",
   "metadata": {},
   "source": [
    "# Analog Timing"
   ]
  },
  {
   "cell_type": "code",
   "execution_count": 11,
   "id": "33a3da22-0527-4924-b538-7d6992c58737",
   "metadata": {},
   "outputs": [
    {
     "data": {
      "text/html": [
       "<div>\n",
       "<style scoped>\n",
       "    .dataframe tbody tr th:only-of-type {\n",
       "        vertical-align: middle;\n",
       "    }\n",
       "\n",
       "    .dataframe tbody tr th {\n",
       "        vertical-align: top;\n",
       "    }\n",
       "\n",
       "    .dataframe thead th {\n",
       "        text-align: right;\n",
       "    }\n",
       "</style>\n",
       "<table border=\"1\" class=\"dataframe\">\n",
       "  <thead>\n",
       "    <tr style=\"text-align: right;\">\n",
       "      <th></th>\n",
       "      <th>Reactivity</th>\n",
       "      <th>Lifetime</th>\n",
       "      <th>Source</th>\n",
       "      <th>Detection Rate</th>\n",
       "      <th>Measurement Time</th>\n",
       "      <th>Seed</th>\n",
       "      <th>Runtime</th>\n",
       "      <th>Inf</th>\n",
       "      <th>Alpha</th>\n",
       "    </tr>\n",
       "  </thead>\n",
       "  <tbody>\n",
       "    <tr>\n",
       "      <th>0</th>\n",
       "      <td>-0.01</td>\n",
       "      <td>0.00006</td>\n",
       "      <td>166810.1</td>\n",
       "      <td>0.000001</td>\n",
       "      <td>60.0</td>\n",
       "      <td>0</td>\n",
       "      <td>150.45</td>\n",
       "      <td>0.821737</td>\n",
       "      <td>1.339250</td>\n",
       "    </tr>\n",
       "    <tr>\n",
       "      <th>1</th>\n",
       "      <td>-0.01</td>\n",
       "      <td>0.00006</td>\n",
       "      <td>166810.1</td>\n",
       "      <td>0.000001</td>\n",
       "      <td>60.0</td>\n",
       "      <td>1</td>\n",
       "      <td>147.87</td>\n",
       "      <td>0.138980</td>\n",
       "      <td>72.961800</td>\n",
       "    </tr>\n",
       "    <tr>\n",
       "      <th>2</th>\n",
       "      <td>-0.01</td>\n",
       "      <td>0.00006</td>\n",
       "      <td>166810.1</td>\n",
       "      <td>0.000001</td>\n",
       "      <td>60.0</td>\n",
       "      <td>10</td>\n",
       "      <td>156.83</td>\n",
       "      <td>0.023257</td>\n",
       "      <td>105.912000</td>\n",
       "    </tr>\n",
       "    <tr>\n",
       "      <th>3</th>\n",
       "      <td>-0.01</td>\n",
       "      <td>0.00006</td>\n",
       "      <td>166810.1</td>\n",
       "      <td>0.000001</td>\n",
       "      <td>60.0</td>\n",
       "      <td>11</td>\n",
       "      <td>152.63</td>\n",
       "      <td>0.012874</td>\n",
       "      <td>1744.450000</td>\n",
       "    </tr>\n",
       "    <tr>\n",
       "      <th>4</th>\n",
       "      <td>-0.01</td>\n",
       "      <td>0.00006</td>\n",
       "      <td>166810.1</td>\n",
       "      <td>0.000001</td>\n",
       "      <td>60.0</td>\n",
       "      <td>12</td>\n",
       "      <td>152.45</td>\n",
       "      <td>0.163551</td>\n",
       "      <td>-0.000951</td>\n",
       "    </tr>\n",
       "    <tr>\n",
       "      <th>...</th>\n",
       "      <td>...</td>\n",
       "      <td>...</td>\n",
       "      <td>...</td>\n",
       "      <td>...</td>\n",
       "      <td>...</td>\n",
       "      <td>...</td>\n",
       "      <td>...</td>\n",
       "      <td>...</td>\n",
       "      <td>...</td>\n",
       "    </tr>\n",
       "    <tr>\n",
       "      <th>2495</th>\n",
       "      <td>-0.01</td>\n",
       "      <td>0.00006</td>\n",
       "      <td>166810.1</td>\n",
       "      <td>0.000167</td>\n",
       "      <td>60.0</td>\n",
       "      <td>5</td>\n",
       "      <td>190.92</td>\n",
       "      <td>4.619970</td>\n",
       "      <td>155.468000</td>\n",
       "    </tr>\n",
       "    <tr>\n",
       "      <th>2496</th>\n",
       "      <td>-0.01</td>\n",
       "      <td>0.00006</td>\n",
       "      <td>166810.1</td>\n",
       "      <td>0.000167</td>\n",
       "      <td>60.0</td>\n",
       "      <td>6</td>\n",
       "      <td>186.33</td>\n",
       "      <td>4.300520</td>\n",
       "      <td>158.704000</td>\n",
       "    </tr>\n",
       "    <tr>\n",
       "      <th>2497</th>\n",
       "      <td>-0.01</td>\n",
       "      <td>0.00006</td>\n",
       "      <td>166810.1</td>\n",
       "      <td>0.000167</td>\n",
       "      <td>60.0</td>\n",
       "      <td>7</td>\n",
       "      <td>182.81</td>\n",
       "      <td>4.570540</td>\n",
       "      <td>159.492000</td>\n",
       "    </tr>\n",
       "    <tr>\n",
       "      <th>2498</th>\n",
       "      <td>-0.01</td>\n",
       "      <td>0.00006</td>\n",
       "      <td>166810.1</td>\n",
       "      <td>0.000167</td>\n",
       "      <td>60.0</td>\n",
       "      <td>8</td>\n",
       "      <td>191.54</td>\n",
       "      <td>4.684980</td>\n",
       "      <td>165.251000</td>\n",
       "    </tr>\n",
       "    <tr>\n",
       "      <th>2499</th>\n",
       "      <td>-0.01</td>\n",
       "      <td>0.00006</td>\n",
       "      <td>166810.1</td>\n",
       "      <td>0.000167</td>\n",
       "      <td>60.0</td>\n",
       "      <td>9</td>\n",
       "      <td>189.40</td>\n",
       "      <td>4.911270</td>\n",
       "      <td>154.576000</td>\n",
       "    </tr>\n",
       "  </tbody>\n",
       "</table>\n",
       "<p>2500 rows × 9 columns</p>\n",
       "</div>"
      ],
      "text/plain": [
       "      Reactivity  Lifetime    Source  Detection Rate  Measurement Time  Seed  \\\n",
       "0          -0.01   0.00006  166810.1        0.000001              60.0     0   \n",
       "1          -0.01   0.00006  166810.1        0.000001              60.0     1   \n",
       "2          -0.01   0.00006  166810.1        0.000001              60.0    10   \n",
       "3          -0.01   0.00006  166810.1        0.000001              60.0    11   \n",
       "4          -0.01   0.00006  166810.1        0.000001              60.0    12   \n",
       "...          ...       ...       ...             ...               ...   ...   \n",
       "2495       -0.01   0.00006  166810.1        0.000167              60.0     5   \n",
       "2496       -0.01   0.00006  166810.1        0.000167              60.0     6   \n",
       "2497       -0.01   0.00006  166810.1        0.000167              60.0     7   \n",
       "2498       -0.01   0.00006  166810.1        0.000167              60.0     8   \n",
       "2499       -0.01   0.00006  166810.1        0.000167              60.0     9   \n",
       "\n",
       "      Runtime       Inf        Alpha  \n",
       "0      150.45  0.821737     1.339250  \n",
       "1      147.87  0.138980    72.961800  \n",
       "2      156.83  0.023257   105.912000  \n",
       "3      152.63  0.012874  1744.450000  \n",
       "4      152.45  0.163551    -0.000951  \n",
       "...       ...       ...          ...  \n",
       "2495   190.92  4.619970   155.468000  \n",
       "2496   186.33  4.300520   158.704000  \n",
       "2497   182.81  4.570540   159.492000  \n",
       "2498   191.54  4.684980   165.251000  \n",
       "2499   189.40  4.911270   154.576000  \n",
       "\n",
       "[2500 rows x 9 columns]"
      ]
     },
     "execution_count": 11,
     "metadata": {},
     "output_type": "execute_result"
    }
   ],
   "source": [
    "timedf = pd.read_csv('analog_timing_data.csv')\n",
    "timedf"
   ]
  },
  {
   "cell_type": "code",
   "execution_count": 12,
   "id": "44413486",
   "metadata": {
    "scrolled": true
   },
   "outputs": [
    {
     "data": {
      "image/png": "[encoded data removed]",
      "text/plain": [
       "<Figure size 432x288 with 1 Axes>"
      ]
     },
     "metadata": {
      "needs_background": "light"
     },
     "output_type": "display_data"
    }
   ],
   "source": [
    "rhoindex = ['Lifetime', 'Source', 'Detection Rate', 'Measurement Time', 'Reactivity']\n",
    "dat = (timedf.loc[(5.99e-5 < timedf['Lifetime']) \n",
    "                   & (timedf['Lifetime'] < 6.01e-5) \n",
    "                   & (timedf['Source'] == 1.668101e+05)\n",
    "                   & (timedf['Detection Rate'] > 0.000166) \n",
    "                   & (timedf['Detection Rate'] < 0.000168)\n",
    "                   & (timedf['Measurement Time'] == 60.), :]\n",
    "       .drop(columns=['Seed']).groupby(rhoindex).mean().reset_index()\n",
    "       .assign(k=lambda x: 1/(1-x.Reactivity)).assign(**{'1/(1-k)': lambda y: 1/(1-y.k)}))\n",
    "stdr = (timedf.loc[(5.99e-5 < timedf['Lifetime']) \n",
    "                   & (timedf['Lifetime'] < 6.01e-5) \n",
    "                   & (timedf['Source'] == 1.668101e+05)\n",
    "                   & (timedf['Detection Rate'] > 0.000166) \n",
    "                   & (timedf['Detection Rate'] < 0.000168)\n",
    "                   & (timedf['Measurement Time'] == 60.), :]\n",
    "        .drop(columns=['Seed']).groupby(rhoindex).std().reset_index())\n",
    "dat = dat.assign(druntime=stdr['Runtime'])\n",
    "\n",
    "v = np.polyfit(x=dat['1/(1-k)'].values, y=dat['Runtime'].values, deg=1)\n",
    "plt.errorbar(dat['1/(1-k)'].values, dat['Runtime'].values, yerr=dat['druntime'], fmt='.', label='Analog Method')\n",
    "plt.grid()\n",
    "plt.xlabel('1/(1-k)')\n",
    "plt.ylabel('Runtime [s]')\n",
    "fx = np.linspace(0, 2100, num=100)\n",
    "fy = v[1] + v[0]*fx\n",
    "plt.plot(fx, fy, 'r', label='Linear Fit')\n",
    "plt.legend()\n",
    "plt.savefig('Analog_Reactivity_Runtime.jpg', dpi=600)"
   ]
  },
  {
   "cell_type": "code",
   "execution_count": 13,
   "id": "aa62abe8",
   "metadata": {},
   "outputs": [
    {
     "data": {
      "image/png": "[encoded data removed]",
      "text/plain": [
       "<Figure size 432x288 with 1 Axes>"
      ]
     },
     "metadata": {
      "needs_background": "light"
     },
     "output_type": "display_data"
    }
   ],
   "source": [
    "rhoindex = ['Lifetime', 'Source', 'Detection Rate', 'Measurement Time', 'Reactivity']\n",
    "dat = (timedf.loc[(5.99e-5 < timedf['Lifetime']) \n",
    "                   & (timedf['Lifetime'] < 6.01e-5) \n",
    "                   & (timedf['Reactivity'] == -0.01)\n",
    "                   & (timedf['Detection Rate'] > 0.000166) \n",
    "                   & (timedf['Detection Rate'] < 0.000168)\n",
    "                   & (timedf['Measurement Time'] == 60.), :]\n",
    "       .drop(columns=['Seed']).groupby(rhoindex).mean().reset_index())\n",
    "stdr = (timedf.loc[(5.99e-5 < timedf['Lifetime']) \n",
    "                   & (timedf['Lifetime'] < 6.01e-5) \n",
    "                   & (timedf['Reactivity'] == -0.01)\n",
    "                   & (timedf['Detection Rate'] > 0.000166) \n",
    "                   & (timedf['Detection Rate'] < 0.000168)\n",
    "                   & (timedf['Measurement Time'] == 60.), :]\n",
    "        .drop(columns=['Seed']).groupby(rhoindex).std().reset_index())\n",
    "dat = dat.assign(druntime=stdr['Runtime'])\n",
    "\n",
    "v = np.polyfit(x=dat['Source'].values, y=dat['Runtime'].values, deg=1)\n",
    "plt.errorbar(dat['Source'].values, dat['Runtime'].values, yerr=dat['druntime'], fmt='.', label='Analog Method')\n",
    "plt.gca().set_xscale('log')\n",
    "plt.grid()\n",
    "plt.xlabel('Source Yield [n/s]')\n",
    "plt.ylabel('Runtime [s]')\n",
    "fx = np.logspace(3, 7, num=100)\n",
    "fy = v[1] + v[0]*fx\n",
    "plt.plot(fx, fy, 'r', label='Linear Fit')\n",
    "plt.legend()\n",
    "plt.savefig('Analog_Source_Runtime.jpg', dpi=600)"
   ]
  },
  {
   "cell_type": "code",
   "execution_count": 14,
   "id": "874507d3",
   "metadata": {
    "scrolled": true
   },
   "outputs": [
    {
     "data": {
      "image/png": "[encoded data removed]",
      "text/plain": [
       "<Figure size 432x288 with 1 Axes>"
      ]
     },
     "metadata": {
      "needs_background": "light"
     },
     "output_type": "display_data"
    }
   ],
   "source": [
    "rhoindex = ['Lifetime', 'Source', 'Detection Rate', 'Measurement Time', 'Reactivity']\n",
    "dat = (timedf.loc[(5.99e-5 < timedf['Lifetime']) \n",
    "                   & (timedf['Lifetime'] < 6.01e-5) \n",
    "                   & (timedf['Reactivity'] == -0.01)\n",
    "                   & (timedf['Detection Rate'] > 0.000166) \n",
    "                   & (timedf['Detection Rate'] < 0.000168)\n",
    "                   & (timedf['Source'] == 1.668101e+05), :]\n",
    "       .drop(columns=['Seed']).groupby(rhoindex).mean().reset_index())\n",
    "stdr = (timedf.loc[(5.99e-5 < timedf['Lifetime']) \n",
    "                   & (timedf['Lifetime'] < 6.01e-5) \n",
    "                   & (timedf['Reactivity'] == -0.01)\n",
    "                   & (timedf['Detection Rate'] > 0.000166) \n",
    "                   & (timedf['Detection Rate'] < 0.000168)\n",
    "                   & (timedf['Source'] == 1.668101e+05), :]\n",
    "        .drop(columns=['Seed']).groupby(rhoindex).std().reset_index())\n",
    "dat = dat.assign(druntime=stdr['Runtime'])\n",
    "\n",
    "v = np.polyfit(x=np.log(dat['Measurement Time'].values), y=np.log(dat['Runtime'].values), deg=1)\n",
    "plt.errorbar(dat['Measurement Time'].values, dat['Runtime'].values, yerr=dat['druntime'], fmt='.', label='Analog Method')\n",
    "plt.gca().set_xscale('log')\n",
    "plt.gca().set_yscale('log')\n",
    "plt.grid()\n",
    "plt.xlabel('Measurement Time [s]')\n",
    "plt.ylabel('Runtime [s]')\n",
    "fx = np.logspace(1.7, 3.6, num=100)\n",
    "fy = np.exp(v[1])*(fx**v[0])\n",
    "plt.plot(fx, fy, 'r', label=f'Power Law Fit: a*x^{v[0]:.2f}')\n",
    "plt.legend()\n",
    "plt.savefig('Analog_Measurement_Runtime.jpg')"
   ]
  },
  {
   "cell_type": "markdown",
   "id": "d42c5730",
   "metadata": {},
   "source": [
    "# SDE Timing"
   ]
  },
  {
   "cell_type": "code",
   "execution_count": 15,
   "id": "73d316cd",
   "metadata": {},
   "outputs": [
    {
     "data": {
      "text/html": [
       "<div>\n",
       "<style scoped>\n",
       "    .dataframe tbody tr th:only-of-type {\n",
       "        vertical-align: middle;\n",
       "    }\n",
       "\n",
       "    .dataframe tbody tr th {\n",
       "        vertical-align: top;\n",
       "    }\n",
       "\n",
       "    .dataframe thead th {\n",
       "        text-align: right;\n",
       "    }\n",
       "</style>\n",
       "<table border=\"1\" class=\"dataframe\">\n",
       "  <thead>\n",
       "    <tr style=\"text-align: right;\">\n",
       "      <th></th>\n",
       "      <th>Reactivity</th>\n",
       "      <th>Lifetime</th>\n",
       "      <th>Source</th>\n",
       "      <th>Detection Rate</th>\n",
       "      <th>Measurement Time</th>\n",
       "      <th>Seed</th>\n",
       "      <th>Runtime</th>\n",
       "      <th>Inf</th>\n",
       "      <th>Alpha</th>\n",
       "    </tr>\n",
       "  </thead>\n",
       "  <tbody>\n",
       "    <tr>\n",
       "      <th>0</th>\n",
       "      <td>-0.01</td>\n",
       "      <td>0.00006</td>\n",
       "      <td>166810.1</td>\n",
       "      <td>0.000001</td>\n",
       "      <td>60.0</td>\n",
       "      <td>0</td>\n",
       "      <td>0.76427</td>\n",
       "      <td>-0.043413</td>\n",
       "      <td>4.328070e-02</td>\n",
       "    </tr>\n",
       "    <tr>\n",
       "      <th>1</th>\n",
       "      <td>-0.01</td>\n",
       "      <td>0.00006</td>\n",
       "      <td>166810.1</td>\n",
       "      <td>0.000001</td>\n",
       "      <td>60.0</td>\n",
       "      <td>1</td>\n",
       "      <td>0.80481</td>\n",
       "      <td>2.457910</td>\n",
       "      <td>1.319140e+00</td>\n",
       "    </tr>\n",
       "    <tr>\n",
       "      <th>2</th>\n",
       "      <td>-0.01</td>\n",
       "      <td>0.00006</td>\n",
       "      <td>166810.1</td>\n",
       "      <td>0.000001</td>\n",
       "      <td>60.0</td>\n",
       "      <td>10</td>\n",
       "      <td>0.87147</td>\n",
       "      <td>0.050798</td>\n",
       "      <td>1.271340e+05</td>\n",
       "    </tr>\n",
       "    <tr>\n",
       "      <th>3</th>\n",
       "      <td>-0.01</td>\n",
       "      <td>0.00006</td>\n",
       "      <td>166810.1</td>\n",
       "      <td>0.000001</td>\n",
       "      <td>60.0</td>\n",
       "      <td>11</td>\n",
       "      <td>0.73257</td>\n",
       "      <td>-0.047773</td>\n",
       "      <td>9.385140e+11</td>\n",
       "    </tr>\n",
       "    <tr>\n",
       "      <th>4</th>\n",
       "      <td>-0.01</td>\n",
       "      <td>0.00006</td>\n",
       "      <td>166810.1</td>\n",
       "      <td>0.000001</td>\n",
       "      <td>60.0</td>\n",
       "      <td>12</td>\n",
       "      <td>0.81989</td>\n",
       "      <td>0.414449</td>\n",
       "      <td>1.242360e+00</td>\n",
       "    </tr>\n",
       "    <tr>\n",
       "      <th>...</th>\n",
       "      <td>...</td>\n",
       "      <td>...</td>\n",
       "      <td>...</td>\n",
       "      <td>...</td>\n",
       "      <td>...</td>\n",
       "      <td>...</td>\n",
       "      <td>...</td>\n",
       "      <td>...</td>\n",
       "      <td>...</td>\n",
       "    </tr>\n",
       "    <tr>\n",
       "      <th>2491</th>\n",
       "      <td>-0.01</td>\n",
       "      <td>0.00006</td>\n",
       "      <td>166810.1</td>\n",
       "      <td>0.000167</td>\n",
       "      <td>60.0</td>\n",
       "      <td>5</td>\n",
       "      <td>0.72492</td>\n",
       "      <td>4.268690</td>\n",
       "      <td>1.748520e+02</td>\n",
       "    </tr>\n",
       "    <tr>\n",
       "      <th>2492</th>\n",
       "      <td>-0.01</td>\n",
       "      <td>0.00006</td>\n",
       "      <td>166810.1</td>\n",
       "      <td>0.000167</td>\n",
       "      <td>60.0</td>\n",
       "      <td>6</td>\n",
       "      <td>0.71770</td>\n",
       "      <td>4.498570</td>\n",
       "      <td>1.547770e+02</td>\n",
       "    </tr>\n",
       "    <tr>\n",
       "      <th>2493</th>\n",
       "      <td>-0.01</td>\n",
       "      <td>0.00006</td>\n",
       "      <td>166810.1</td>\n",
       "      <td>0.000167</td>\n",
       "      <td>60.0</td>\n",
       "      <td>7</td>\n",
       "      <td>0.72296</td>\n",
       "      <td>4.536450</td>\n",
       "      <td>1.593370e+02</td>\n",
       "    </tr>\n",
       "    <tr>\n",
       "      <th>2494</th>\n",
       "      <td>-0.01</td>\n",
       "      <td>0.00006</td>\n",
       "      <td>166810.1</td>\n",
       "      <td>0.000167</td>\n",
       "      <td>60.0</td>\n",
       "      <td>8</td>\n",
       "      <td>0.70648</td>\n",
       "      <td>4.544860</td>\n",
       "      <td>1.666230e+02</td>\n",
       "    </tr>\n",
       "    <tr>\n",
       "      <th>2495</th>\n",
       "      <td>-0.01</td>\n",
       "      <td>0.00006</td>\n",
       "      <td>166810.1</td>\n",
       "      <td>0.000167</td>\n",
       "      <td>60.0</td>\n",
       "      <td>9</td>\n",
       "      <td>0.72515</td>\n",
       "      <td>4.659070</td>\n",
       "      <td>1.713070e+02</td>\n",
       "    </tr>\n",
       "  </tbody>\n",
       "</table>\n",
       "<p>2496 rows × 9 columns</p>\n",
       "</div>"
      ],
      "text/plain": [
       "      Reactivity  Lifetime    Source  Detection Rate  Measurement Time  Seed  \\\n",
       "0          -0.01   0.00006  166810.1        0.000001              60.0     0   \n",
       "1          -0.01   0.00006  166810.1        0.000001              60.0     1   \n",
       "2          -0.01   0.00006  166810.1        0.000001              60.0    10   \n",
       "3          -0.01   0.00006  166810.1        0.000001              60.0    11   \n",
       "4          -0.01   0.00006  166810.1        0.000001              60.0    12   \n",
       "...          ...       ...       ...             ...               ...   ...   \n",
       "2491       -0.01   0.00006  166810.1        0.000167              60.0     5   \n",
       "2492       -0.01   0.00006  166810.1        0.000167              60.0     6   \n",
       "2493       -0.01   0.00006  166810.1        0.000167              60.0     7   \n",
       "2494       -0.01   0.00006  166810.1        0.000167              60.0     8   \n",
       "2495       -0.01   0.00006  166810.1        0.000167              60.0     9   \n",
       "\n",
       "      Runtime       Inf         Alpha  \n",
       "0     0.76427 -0.043413  4.328070e-02  \n",
       "1     0.80481  2.457910  1.319140e+00  \n",
       "2     0.87147  0.050798  1.271340e+05  \n",
       "3     0.73257 -0.047773  9.385140e+11  \n",
       "4     0.81989  0.414449  1.242360e+00  \n",
       "...       ...       ...           ...  \n",
       "2491  0.72492  4.268690  1.748520e+02  \n",
       "2492  0.71770  4.498570  1.547770e+02  \n",
       "2493  0.72296  4.536450  1.593370e+02  \n",
       "2494  0.70648  4.544860  1.666230e+02  \n",
       "2495  0.72515  4.659070  1.713070e+02  \n",
       "\n",
       "[2496 rows x 9 columns]"
      ]
     },
     "execution_count": 15,
     "metadata": {},
     "output_type": "execute_result"
    }
   ],
   "source": [
    "sdetimedf = pd.read_csv('sde_timing_data.csv')\n",
    "sdetimedf"
   ]
  },
  {
   "cell_type": "code",
   "execution_count": 16,
   "id": "52b9776c",
   "metadata": {
    "scrolled": true
   },
   "outputs": [
    {
     "data": {
      "image/png": "[encoded data removed]",
      "text/plain": [
       "<Figure size 432x288 with 1 Axes>"
      ]
     },
     "metadata": {
      "needs_background": "light"
     },
     "output_type": "display_data"
    }
   ],
   "source": [
    "rhoindex = ['Lifetime', 'Source', 'Detection Rate', 'Measurement Time', 'Reactivity']\n",
    "dat = (sdetimedf.loc[(5.99e-5 < timedf['Lifetime']) \n",
    "                   & (timedf['Lifetime'] < 6.01e-5) \n",
    "                   & (timedf['Source'] == 1.668101e+05)\n",
    "                   & (timedf['Detection Rate'] > 0.000166) \n",
    "                   & (timedf['Detection Rate'] < 0.000168)\n",
    "                   & (timedf['Measurement Time'] == 60.), :]\n",
    "       .drop(columns=['Seed']).groupby(rhoindex).mean().reset_index()\n",
    "       .assign(k=lambda x: 1/(1-x.Reactivity)))\n",
    "stdr = (sdetimedf.loc[(5.99e-5 < timedf['Lifetime']) \n",
    "                   & (timedf['Lifetime'] < 6.01e-5) \n",
    "                   & (timedf['Source'] == 1.668101e+05)\n",
    "                   & (timedf['Detection Rate'] > 0.000166) \n",
    "                   & (timedf['Detection Rate'] < 0.000168)\n",
    "                   & (timedf['Measurement Time'] == 60.), :]\n",
    "        .drop(columns=['Seed']).groupby(rhoindex).std().reset_index())\n",
    "dat = dat.assign(druntime=stdr['Runtime'])\n",
    "\n",
    "v = np.polyfit(x=dat['k'].values, y=dat['Runtime'].values, deg=0)\n",
    "plt.errorbar(dat['k'].values, dat['Runtime'].values, yerr=dat['druntime'], fmt='.', label='SDE Method')\n",
    "plt.grid()\n",
    "plt.xlabel('k')\n",
    "plt.ylabel('Runtime [s]')\n",
    "fx = np.linspace(0.989, 1, num=100)\n",
    "fy = v[0]*np.ones_like(fx)\n",
    "plt.plot(fx, fy, 'r', label='Constant Fit')\n",
    "plt.legend()\n",
    "plt.savefig('SDE_Reactivity_Runtime.jpg', dpi=600)"
   ]
  },
  {
   "cell_type": "code",
   "execution_count": 24,
   "id": "ae364be4-b09a-4031-8585-ad650aa89185",
   "metadata": {},
   "outputs": [
    {
     "data": {
      "text/plain": [
       "25.571019999999997"
      ]
     },
     "execution_count": 24,
     "metadata": {},
     "output_type": "execute_result"
    }
   ],
   "source": [
    "dat.Runtime.max()"
   ]
  },
  {
   "cell_type": "code",
   "execution_count": 17,
   "id": "cfd77e4a",
   "metadata": {},
   "outputs": [
    {
     "data": {
      "image/png": "[encoded data removed]",
      "text/plain": [
       "<Figure size 432x288 with 1 Axes>"
      ]
     },
     "metadata": {
      "needs_background": "light"
     },
     "output_type": "display_data"
    }
   ],
   "source": [
    "rhoindex = ['Lifetime', 'Source', 'Detection Rate', 'Measurement Time', 'Reactivity']\n",
    "dat = (sdetimedf.loc[(5.99e-5 < timedf['Lifetime']) \n",
    "                   & (timedf['Lifetime'] < 6.01e-5) \n",
    "                   & (timedf['Reactivity'] == -0.01)\n",
    "                   & (timedf['Detection Rate'] > 0.000166) \n",
    "                   & (timedf['Detection Rate'] < 0.000168)\n",
    "                   & (timedf['Measurement Time'] == 60.), :]\n",
    "       .drop(columns=['Seed']).groupby(rhoindex).mean().reset_index())\n",
    "stdr = (sdetimedf.loc[(5.99e-5 < timedf['Lifetime']) \n",
    "                   & (timedf['Lifetime'] < 6.01e-5) \n",
    "                   & (timedf['Reactivity'] == -0.01)\n",
    "                   & (timedf['Detection Rate'] > 0.000166) \n",
    "                   & (timedf['Detection Rate'] < 0.000168)\n",
    "                   & (timedf['Measurement Time'] == 60.), :]\n",
    "        .drop(columns=['Seed']).groupby(rhoindex).std().reset_index())\n",
    "dat = dat.assign(druntime=stdr['Runtime'])\n",
    "\n",
    "v = np.polyfit(x=dat['Source'].values, y=dat['Runtime'].values, deg=0)\n",
    "plt.errorbar(dat['Source'].values, dat['Runtime'].values, yerr=dat['druntime'], fmt='.', label='SDE Method')\n",
    "plt.gca().set_xscale('log')\n",
    "plt.grid()\n",
    "plt.xlabel('Source Yield [n/s]')\n",
    "plt.ylabel('Runtime [s]')\n",
    "fx = np.logspace(3, 7, num=100)\n",
    "fy = v[0]*np.ones_like(fx)\n",
    "plt.plot(fx, fy, 'r', label='Constant Fit')\n",
    "plt.legend()\n",
    "plt.savefig('SDE_Source_Runtime.jpg', dpi=600)"
   ]
  },
  {
   "cell_type": "code",
   "execution_count": 18,
   "id": "887f1540",
   "metadata": {
    "scrolled": true
   },
   "outputs": [
    {
     "data": {
      "image/png": "[encoded data removed]",
      "text/plain": [
       "<Figure size 432x288 with 1 Axes>"
      ]
     },
     "metadata": {
      "needs_background": "light"
     },
     "output_type": "display_data"
    }
   ],
   "source": [
    "rhoindex = ['Lifetime', 'Source', 'Detection Rate', 'Measurement Time', 'Reactivity']\n",
    "dat = (sdetimedf.loc[(5.99e-5 < timedf['Lifetime']) \n",
    "                   & (timedf['Lifetime'] < 6.01e-5) \n",
    "                   & (timedf['Reactivity'] == -0.01)\n",
    "                   & (timedf['Detection Rate'] > 0.000166) \n",
    "                   & (timedf['Detection Rate'] < 0.000168)\n",
    "                   & (timedf['Source'] == 1.668101e+05), :]\n",
    "       .drop(columns=['Seed']).groupby(rhoindex).mean().reset_index())\n",
    "stdr = (sdetimedf.loc[(5.99e-5 < timedf['Lifetime']) \n",
    "                   & (timedf['Lifetime'] < 6.01e-5) \n",
    "                   & (timedf['Reactivity'] == -0.01)\n",
    "                   & (timedf['Detection Rate'] > 0.000166) \n",
    "                   & (timedf['Detection Rate'] < 0.000168)\n",
    "                   & (timedf['Source'] == 1.668101e+05), :]\n",
    "        .drop(columns=['Seed']).groupby(rhoindex).std().reset_index())\n",
    "dat = dat.assign(druntime=stdr['Runtime'])\n",
    "\n",
    "v = np.polyfit(x=dat['Measurement Time'].values, y=dat['Runtime'].values, deg=1)\n",
    "plt.errorbar(dat['Measurement Time'].values, dat['Runtime'].values, yerr=dat['druntime'], fmt='.', label='SDE Method')\n",
    "plt.grid()\n",
    "plt.xlabel('Measurement Time [s]')\n",
    "plt.ylabel('Runtime [s]')\n",
    "fx = np.logspace(1.7, 3.6, num=100)\n",
    "fy = v[1]+ (fx*v[0])\n",
    "plt.plot(fx, fy, 'r', label=f'Linear Fit')\n",
    "plt.legend()\n",
    "plt.savefig('SDE_Measurement_Runtime.jpg')"
   ]
  },
  {
   "cell_type": "code",
   "execution_count": 25,
   "id": "613c6272-a096-40a0-9eba-8f2a275debf8",
   "metadata": {},
   "outputs": [
    {
     "data": {
      "text/plain": [
       "25.571019999999997"
      ]
     },
     "execution_count": 25,
     "metadata": {},
     "output_type": "execute_result"
    }
   ],
   "source": [
    "dat.Runtime.max()"
   ]
  },
  {
   "cell_type": "markdown",
   "id": "c33b0f0f",
   "metadata": {},
   "source": [
    "# Speedup"
   ]
  },
  {
   "cell_type": "code",
   "execution_count": 19,
   "id": "e42a358c",
   "metadata": {},
   "outputs": [],
   "source": [
    "sdemeandf = sdetimedf.groupby(rhoindex).mean().reset_index()\n",
    "sdemeandf['SDE RuntimeSTD'] = sdetimedf.groupby(rhoindex).std().reset_index()['Runtime']\n",
    "sdemeandf.drop(columns=['Seed'], inplace=True)\n",
    "sdemeandf.rename(columns = {'Runtime': 'SDE Runtime', 'Inf': 'SDE YInf', 'Alpha': 'SDE Alpha Mean'}, inplace=True)"
   ]
  },
  {
   "cell_type": "code",
   "execution_count": 20,
   "id": "cdae1d79",
   "metadata": {},
   "outputs": [],
   "source": [
    "analogmeandf =  timedf.groupby(rhoindex).mean().reset_index()\n",
    "analogmeandf['Analog RuntimeSTD'] = timedf.groupby(rhoindex).std().reset_index()['Runtime']\n",
    "analogmeandf.drop(columns=['Seed'], inplace=True)\n",
    "analogmeandf.rename(columns = {'Runtime': 'Analog Runtime', 'Inf': 'Analog Yinf', 'Alpha': 'Analog Alpha Mean'}, inplace=True)"
   ]
  },
  {
   "cell_type": "code",
   "execution_count": 21,
   "id": "fc522727",
   "metadata": {},
   "outputs": [
    {
     "data": {
      "text/html": [
       "<div>\n",
       "<style scoped>\n",
       "    .dataframe tbody tr th:only-of-type {\n",
       "        vertical-align: middle;\n",
       "    }\n",
       "\n",
       "    .dataframe tbody tr th {\n",
       "        vertical-align: top;\n",
       "    }\n",
       "\n",
       "    .dataframe thead th {\n",
       "        text-align: right;\n",
       "    }\n",
       "</style>\n",
       "<table border=\"1\" class=\"dataframe\">\n",
       "  <thead>\n",
       "    <tr style=\"text-align: right;\">\n",
       "      <th></th>\n",
       "      <th>Source</th>\n",
       "      <th>Measurement Time</th>\n",
       "      <th>Reactivity</th>\n",
       "      <th>speedup</th>\n",
       "    </tr>\n",
       "  </thead>\n",
       "  <tbody>\n",
       "    <tr>\n",
       "      <th>0</th>\n",
       "      <td>1.000000e+03</td>\n",
       "      <td>60.00000</td>\n",
       "      <td>-0.010000</td>\n",
       "      <td>42.065348</td>\n",
       "    </tr>\n",
       "    <tr>\n",
       "      <th>1</th>\n",
       "      <td>2.782559e+03</td>\n",
       "      <td>60.00000</td>\n",
       "      <td>-0.010000</td>\n",
       "      <td>57.888087</td>\n",
       "    </tr>\n",
       "    <tr>\n",
       "      <th>2</th>\n",
       "      <td>7.742637e+03</td>\n",
       "      <td>60.00000</td>\n",
       "      <td>-0.010000</td>\n",
       "      <td>76.296521</td>\n",
       "    </tr>\n",
       "    <tr>\n",
       "      <th>3</th>\n",
       "      <td>2.154435e+04</td>\n",
       "      <td>60.00000</td>\n",
       "      <td>-0.010000</td>\n",
       "      <td>105.104669</td>\n",
       "    </tr>\n",
       "    <tr>\n",
       "      <th>4</th>\n",
       "      <td>5.994843e+04</td>\n",
       "      <td>60.00000</td>\n",
       "      <td>-0.010000</td>\n",
       "      <td>187.230342</td>\n",
       "    </tr>\n",
       "    <tr>\n",
       "      <th>5</th>\n",
       "      <td>1.668101e+05</td>\n",
       "      <td>60.00000</td>\n",
       "      <td>-0.010000</td>\n",
       "      <td>273.912160</td>\n",
       "    </tr>\n",
       "    <tr>\n",
       "      <th>6</th>\n",
       "      <td>1.668101e+05</td>\n",
       "      <td>60.00000</td>\n",
       "      <td>-0.007169</td>\n",
       "      <td>493.709343</td>\n",
       "    </tr>\n",
       "    <tr>\n",
       "      <th>7</th>\n",
       "      <td>1.668101e+05</td>\n",
       "      <td>60.00000</td>\n",
       "      <td>-0.005139</td>\n",
       "      <td>847.111693</td>\n",
       "    </tr>\n",
       "    <tr>\n",
       "      <th>8</th>\n",
       "      <td>1.668101e+05</td>\n",
       "      <td>60.00000</td>\n",
       "      <td>-0.003684</td>\n",
       "      <td>1184.322548</td>\n",
       "    </tr>\n",
       "    <tr>\n",
       "      <th>9</th>\n",
       "      <td>1.668101e+05</td>\n",
       "      <td>60.00000</td>\n",
       "      <td>-0.002641</td>\n",
       "      <td>1904.617375</td>\n",
       "    </tr>\n",
       "    <tr>\n",
       "      <th>10</th>\n",
       "      <td>1.668101e+05</td>\n",
       "      <td>60.00000</td>\n",
       "      <td>-0.001893</td>\n",
       "      <td>1928.214572</td>\n",
       "    </tr>\n",
       "    <tr>\n",
       "      <th>11</th>\n",
       "      <td>1.668101e+05</td>\n",
       "      <td>60.00000</td>\n",
       "      <td>-0.001357</td>\n",
       "      <td>4033.449250</td>\n",
       "    </tr>\n",
       "    <tr>\n",
       "      <th>12</th>\n",
       "      <td>1.668101e+05</td>\n",
       "      <td>60.00000</td>\n",
       "      <td>-0.000973</td>\n",
       "      <td>4193.215079</td>\n",
       "    </tr>\n",
       "    <tr>\n",
       "      <th>13</th>\n",
       "      <td>1.668101e+05</td>\n",
       "      <td>60.00000</td>\n",
       "      <td>-0.000697</td>\n",
       "      <td>5857.194497</td>\n",
       "    </tr>\n",
       "    <tr>\n",
       "      <th>14</th>\n",
       "      <td>1.668101e+05</td>\n",
       "      <td>60.00000</td>\n",
       "      <td>-0.000500</td>\n",
       "      <td>3410.473326</td>\n",
       "    </tr>\n",
       "    <tr>\n",
       "      <th>15</th>\n",
       "      <td>1.668101e+05</td>\n",
       "      <td>94.56352</td>\n",
       "      <td>-0.010000</td>\n",
       "      <td>467.943596</td>\n",
       "    </tr>\n",
       "    <tr>\n",
       "      <th>16</th>\n",
       "      <td>1.668101e+05</td>\n",
       "      <td>149.03760</td>\n",
       "      <td>-0.010000</td>\n",
       "      <td>728.136335</td>\n",
       "    </tr>\n",
       "    <tr>\n",
       "      <th>17</th>\n",
       "      <td>1.668101e+05</td>\n",
       "      <td>234.89210</td>\n",
       "      <td>-0.010000</td>\n",
       "      <td>1093.317783</td>\n",
       "    </tr>\n",
       "    <tr>\n",
       "      <th>18</th>\n",
       "      <td>1.668101e+05</td>\n",
       "      <td>370.20360</td>\n",
       "      <td>-0.010000</td>\n",
       "      <td>1638.157248</td>\n",
       "    </tr>\n",
       "    <tr>\n",
       "      <th>19</th>\n",
       "      <td>1.668101e+05</td>\n",
       "      <td>583.46260</td>\n",
       "      <td>-0.010000</td>\n",
       "      <td>2338.162497</td>\n",
       "    </tr>\n",
       "    <tr>\n",
       "      <th>20</th>\n",
       "      <td>1.668101e+05</td>\n",
       "      <td>919.57130</td>\n",
       "      <td>-0.010000</td>\n",
       "      <td>3450.581950</td>\n",
       "    </tr>\n",
       "    <tr>\n",
       "      <th>21</th>\n",
       "      <td>1.668101e+05</td>\n",
       "      <td>1449.29800</td>\n",
       "      <td>-0.010000</td>\n",
       "      <td>5245.324717</td>\n",
       "    </tr>\n",
       "    <tr>\n",
       "      <th>22</th>\n",
       "      <td>1.668101e+05</td>\n",
       "      <td>2284.17900</td>\n",
       "      <td>-0.010000</td>\n",
       "      <td>7732.981656</td>\n",
       "    </tr>\n",
       "    <tr>\n",
       "      <th>23</th>\n",
       "      <td>1.668101e+05</td>\n",
       "      <td>3600.00000</td>\n",
       "      <td>-0.010000</td>\n",
       "      <td>7120.818802</td>\n",
       "    </tr>\n",
       "    <tr>\n",
       "      <th>24</th>\n",
       "      <td>4.641589e+05</td>\n",
       "      <td>60.00000</td>\n",
       "      <td>-0.010000</td>\n",
       "      <td>944.901747</td>\n",
       "    </tr>\n",
       "    <tr>\n",
       "      <th>25</th>\n",
       "      <td>1.291550e+06</td>\n",
       "      <td>60.00000</td>\n",
       "      <td>-0.010000</td>\n",
       "      <td>3891.962481</td>\n",
       "    </tr>\n",
       "    <tr>\n",
       "      <th>26</th>\n",
       "      <td>3.593814e+06</td>\n",
       "      <td>60.00000</td>\n",
       "      <td>-0.010000</td>\n",
       "      <td>7556.650703</td>\n",
       "    </tr>\n",
       "    <tr>\n",
       "      <th>27</th>\n",
       "      <td>1.000000e+07</td>\n",
       "      <td>60.00000</td>\n",
       "      <td>-0.010000</td>\n",
       "      <td>24191.146614</td>\n",
       "    </tr>\n",
       "  </tbody>\n",
       "</table>\n",
       "</div>"
      ],
      "text/plain": [
       "          Source  Measurement Time  Reactivity       speedup\n",
       "0   1.000000e+03          60.00000   -0.010000     42.065348\n",
       "1   2.782559e+03          60.00000   -0.010000     57.888087\n",
       "2   7.742637e+03          60.00000   -0.010000     76.296521\n",
       "3   2.154435e+04          60.00000   -0.010000    105.104669\n",
       "4   5.994843e+04          60.00000   -0.010000    187.230342\n",
       "5   1.668101e+05          60.00000   -0.010000    273.912160\n",
       "6   1.668101e+05          60.00000   -0.007169    493.709343\n",
       "7   1.668101e+05          60.00000   -0.005139    847.111693\n",
       "8   1.668101e+05          60.00000   -0.003684   1184.322548\n",
       "9   1.668101e+05          60.00000   -0.002641   1904.617375\n",
       "10  1.668101e+05          60.00000   -0.001893   1928.214572\n",
       "11  1.668101e+05          60.00000   -0.001357   4033.449250\n",
       "12  1.668101e+05          60.00000   -0.000973   4193.215079\n",
       "13  1.668101e+05          60.00000   -0.000697   5857.194497\n",
       "14  1.668101e+05          60.00000   -0.000500   3410.473326\n",
       "15  1.668101e+05          94.56352   -0.010000    467.943596\n",
       "16  1.668101e+05         149.03760   -0.010000    728.136335\n",
       "17  1.668101e+05         234.89210   -0.010000   1093.317783\n",
       "18  1.668101e+05         370.20360   -0.010000   1638.157248\n",
       "19  1.668101e+05         583.46260   -0.010000   2338.162497\n",
       "20  1.668101e+05         919.57130   -0.010000   3450.581950\n",
       "21  1.668101e+05        1449.29800   -0.010000   5245.324717\n",
       "22  1.668101e+05        2284.17900   -0.010000   7732.981656\n",
       "23  1.668101e+05        3600.00000   -0.010000   7120.818802\n",
       "24  4.641589e+05          60.00000   -0.010000    944.901747\n",
       "25  1.291550e+06          60.00000   -0.010000   3891.962481\n",
       "26  3.593814e+06          60.00000   -0.010000   7556.650703\n",
       "27  1.000000e+07          60.00000   -0.010000  24191.146614"
      ]
     },
     "execution_count": 21,
     "metadata": {},
     "output_type": "execute_result"
    }
   ],
   "source": [
    "combined = (pd.concat([analogmeandf.groupby(rhoindex).mean(), \n",
    "                       sdemeandf.groupby(rhoindex).mean()], \n",
    "                      axis=1)\n",
    "            .reset_index()\n",
    "            .assign(speedup=lambda x: x['Analog Runtime']/x['SDE Runtime']))\n",
    "filtered = (combined.drop(columns=set(combined.columns) - (set(rhoindex) | {'speedup'}))\n",
    "            .groupby(['Source', 'Measurement Time', 'Reactivity'])\n",
    "            .mean().reset_index().drop(columns=['Lifetime', 'Detection Rate']))\n",
    "filtered"
   ]
  },
  {
   "cell_type": "code",
   "execution_count": 22,
   "id": "9054d76d",
   "metadata": {},
   "outputs": [
    {
     "data": {
      "text/plain": [
       "(42.06534759721429, 24191.146614177702)"
      ]
     },
     "execution_count": 22,
     "metadata": {},
     "output_type": "execute_result"
    }
   ],
   "source": [
    "filtered.speedup.min(), filtered.speedup.max()"
   ]
  },
  {
   "cell_type": "code",
   "execution_count": null,
   "id": "7bd38e81-69af-4a5b-ba5f-ff817a4194f9",
   "metadata": {},
   "outputs": [],
   "source": []
  }
 ],
 "metadata": {
  "kernelspec": {
   "display_name": "Python 3 (ipykernel)",
   "language": "python",
   "name": "python3"
  },
  "language_info": {
   "codemirror_mode": {
    "name": "ipython",
    "version": 3
   },
   "file_extension": ".py",
   "mimetype": "text/x-python",
   "name": "python",
   "nbconvert_exporter": "python",
   "pygments_lexer": "ipython3",
   "version": "3.9.6"
  }
 },
 "nbformat": 4,
 "nbformat_minor": 5
}
